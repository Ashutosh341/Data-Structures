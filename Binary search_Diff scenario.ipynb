{
 "cells": [
  {
   "cell_type": "code",
   "execution_count": 3,
   "id": "99ea2ccf",
   "metadata": {},
   "outputs": [
    {
     "data": {
      "text/plain": [
       "('Element Not found', -1)"
      ]
     },
     "execution_count": 3,
     "metadata": {},
     "output_type": "execute_result"
    }
   ],
   "source": [
    "def binary_search(arr,target):\n",
    "    \n",
    "    start = 0\n",
    "    end   = len(arr) - 1\n",
    "    \n",
    "    while start<=end:\n",
    "        \n",
    "        mid = (start + end) // 2\n",
    "        \n",
    "        if arr[mid] == target:\n",
    "            return \"Element is found at index \" , mid\n",
    "        \n",
    "        elif arr[mid] < target:\n",
    "            start = mid+1\n",
    "            \n",
    "        elif arr[mid] > target:\n",
    "            end= mid-1\n",
    "    \n",
    "    return \"Element Not found\", -1\n",
    "\n",
    "\n",
    "binary_search([1,2,44,55,65,122,150],1150)"
   ]
  },
  {
   "cell_type": "code",
   "execution_count": 13,
   "id": "2dedf381",
   "metadata": {},
   "outputs": [
    {
     "data": {
      "text/plain": [
       "('Element is present at index ', 2)"
      ]
     },
     "execution_count": 13,
     "metadata": {},
     "output_type": "execute_result"
    }
   ],
   "source": [
    "def recursive_binary_search(arr ,start,end,target):\n",
    "    \n",
    "    \n",
    "    \n",
    "    if end>=start:\n",
    "        \n",
    "        mid = (start+end) // 2\n",
    "        \n",
    "        if arr[mid] == target:\n",
    "            return \"Element is present at index \",mid\n",
    "        \n",
    "        elif arr[mid] < target:\n",
    "            return recursive_binary_search(arr , mid+1 ,end,target)\n",
    "        \n",
    "        elif arr[mid] > target:\n",
    "            return recursive_binary_search(arr , start ,mid-1,target)\n",
    "        \n",
    "    return  \"Element not present \", -1\n",
    "\n",
    "arr=[1,2,44,55,65,122,150]\n",
    "#target=150\n",
    "\n",
    "recursive_binary_search(arr ,start=0,end=len(arr)-1,target=44)         "
   ]
  },
  {
   "cell_type": "code",
   "execution_count": 32,
   "id": "a8db8aa1",
   "metadata": {},
   "outputs": [
    {
     "data": {
      "text/plain": [
       "12"
      ]
     },
     "execution_count": 32,
     "metadata": {},
     "output_type": "execute_result"
    }
   ],
   "source": [
    "def duplicates_binary_search(arr ,start,end,target):\n",
    "    \n",
    "    \n",
    "    \n",
    "    if start<=end:\n",
    "        \n",
    "        mid = (start+end) // 2\n",
    "        \n",
    "        if arr[mid] == target and arr[mid-1] != target:\n",
    "            return mid\n",
    "        \n",
    "        elif arr[mid] == target and arr[mid-1] == target:\n",
    "            return duplicates_binary_search(arr , start ,mid-1,target)\n",
    "            \n",
    "            \n",
    "            \n",
    "            \n",
    "        \n",
    "        elif arr[mid] < target:\n",
    "            return duplicates_binary_search(arr , mid+1 ,end,target)\n",
    "        \n",
    "        elif arr[mid] > target:\n",
    "            return duplicates_binary_search(arr , start ,mid-1,target)\n",
    "        \n",
    "    return  \"Element not present \", -1\n",
    "\n",
    "arr=[1,2,44,44,44,55,55,65,65,65,65,122,150,150,150,150]\n",
    "#target=150\n",
    "\n",
    "duplicates_binary_search(arr ,start=0,end=len(arr)-1,target=150)     "
   ]
  },
  {
   "cell_type": "markdown",
   "id": "355d2f4a",
   "metadata": {},
   "source": []
  },
  {
   "cell_type": "code",
   "execution_count": null,
   "id": "ea7c8600",
   "metadata": {},
   "outputs": [],
   "source": []
  }
 ],
 "metadata": {
  "kernelspec": {
   "display_name": "Python 3 (ipykernel)",
   "language": "python",
   "name": "python3"
  },
  "language_info": {
   "codemirror_mode": {
    "name": "ipython",
    "version": 3
   },
   "file_extension": ".py",
   "mimetype": "text/x-python",
   "name": "python",
   "nbconvert_exporter": "python",
   "pygments_lexer": "ipython3",
   "version": "3.10.0"
  }
 },
 "nbformat": 4,
 "nbformat_minor": 5
}
